{
 "cells": [
  {
   "cell_type": "code",
   "execution_count": 128,
   "id": "38825cd9-376d-48ef-b7c8-f74ac486ba39",
   "metadata": {},
   "outputs": [],
   "source": [
    "import os\n",
    "import numpy as np\n",
    "import pandas as pd\n",
    "import matplotlib.pyplot as plt\n",
    "%matplotlib inline"
   ]
  },
  {
   "cell_type": "code",
   "execution_count": 53,
   "id": "be205aa3-1242-45b3-ab62-bb7e35f26a1d",
   "metadata": {},
   "outputs": [
    {
     "name": "stderr",
     "output_type": "stream",
     "text": [
      "huggingface/tokenizers: The current process just got forked, after parallelism has already been used. Disabling parallelism to avoid deadlocks...\n",
      "To disable this warning, you can either:\n",
      "\t- Avoid using `tokenizers` before the fork if possible\n",
      "\t- Explicitly set the environment variable TOKENIZERS_PARALLELISM=(true | false)\n"
     ]
    },
    {
     "name": "stdout",
     "output_type": "stream",
     "text": [
      "Sat Nov 18 11:10:01 2023       \n",
      "+-----------------------------------------------------------------------------+\n",
      "| NVIDIA-SMI 520.61.05    Driver Version: 520.61.05    CUDA Version: 11.8     |\n",
      "|-------------------------------+----------------------+----------------------+\n",
      "| GPU  Name        Persistence-M| Bus-Id        Disp.A | Volatile Uncorr. ECC |\n",
      "| Fan  Temp  Perf  Pwr:Usage/Cap|         Memory-Usage | GPU-Util  Compute M. |\n",
      "|                               |                      |               MIG M. |\n",
      "|===============================+======================+======================|\n",
      "|   0  NVIDIA GeForce ...  On   | 00000000:00:05.0 Off |                  N/A |\n",
      "|  0%   26C    P8    24W / 350W |    830MiB / 24576MiB |      0%      Default |\n",
      "|                               |                      |                  N/A |\n",
      "+-------------------------------+----------------------+----------------------+\n",
      "|   1  NVIDIA GeForce ...  On   | 00000000:00:06.0 Off |                  N/A |\n",
      "|  0%   26C    P8    23W / 350W |   5880MiB / 24576MiB |      0%      Default |\n",
      "|                               |                      |                  N/A |\n",
      "+-------------------------------+----------------------+----------------------+\n",
      "|   2  NVIDIA GeForce ...  On   | 00000000:00:07.0 Off |                  N/A |\n",
      "|  0%   29C    P8    32W / 350W |      8MiB / 24576MiB |      0%      Default |\n",
      "|                               |                      |                  N/A |\n",
      "+-------------------------------+----------------------+----------------------+\n",
      "|   3  NVIDIA GeForce ...  On   | 00000000:00:08.0 Off |                  N/A |\n",
      "|  0%   28C    P8    23W / 350W |      8MiB / 24576MiB |      0%      Default |\n",
      "|                               |                      |                  N/A |\n",
      "+-------------------------------+----------------------+----------------------+\n",
      "|   4  NVIDIA GeForce ...  On   | 00000000:00:09.0 Off |                  N/A |\n",
      "|  0%   29C    P8    18W / 350W |      8MiB / 24576MiB |      0%      Default |\n",
      "|                               |                      |                  N/A |\n",
      "+-------------------------------+----------------------+----------------------+\n",
      "|   5  NVIDIA GeForce ...  On   | 00000000:00:0A.0 Off |                  N/A |\n",
      "|  0%   26C    P8    25W / 350W |   5997MiB / 24576MiB |      0%      Default |\n",
      "|                               |                      |                  N/A |\n",
      "+-------------------------------+----------------------+----------------------+\n",
      "                                                                               \n",
      "+-----------------------------------------------------------------------------+\n",
      "| Processes:                                                                  |\n",
      "|  GPU   GI   CI        PID   Type   Process name                  GPU Memory |\n",
      "|        ID   ID                                                   Usage      |\n",
      "|=============================================================================|\n",
      "|    0   N/A  N/A      1798      G   /usr/lib/xorg/Xorg                  4MiB |\n",
      "|    0   N/A  N/A   2433141      C   ...s/layering3.10/bin/python      822MiB |\n",
      "|    1   N/A  N/A      1798      G   /usr/lib/xorg/Xorg                  4MiB |\n",
      "|    1   N/A  N/A   2541709      C   ...oseapi3.10_2.0/bin/python     5872MiB |\n",
      "|    2   N/A  N/A      1798      G   /usr/lib/xorg/Xorg                  4MiB |\n",
      "|    3   N/A  N/A      1798      G   /usr/lib/xorg/Xorg                  4MiB |\n",
      "|    4   N/A  N/A      1798      G   /usr/lib/xorg/Xorg                  4MiB |\n",
      "|    5   N/A  N/A      1798      G   /usr/lib/xorg/Xorg                  4MiB |\n",
      "|    5   N/A  N/A   2433141    C+G   ...s/layering3.10/bin/python     5988MiB |\n",
      "+-----------------------------------------------------------------------------+\n"
     ]
    }
   ],
   "source": [
    "!nvidia-smi"
   ]
  },
  {
   "cell_type": "code",
   "execution_count": 118,
   "id": "cc4be4bb-8a14-4167-9b00-657f83a453ce",
   "metadata": {},
   "outputs": [],
   "source": [
    "os.environ[\"CUDA_VISIBLE_DEVICES\"] = \"2\"\n",
    "device = \"cuda\""
   ]
  },
  {
   "cell_type": "code",
   "execution_count": 64,
   "id": "ed9d531f-f7f4-4a2e-a126-e59e9b7e1074",
   "metadata": {},
   "outputs": [],
   "source": [
    "import torch\n",
    "import sklearn\n",
    "import transformers\n",
    "import pytorch_lightning as pl\n",
    "\n",
    "import torch.nn as nn\n",
    "import torch.nn.functional as F\n",
    "\n",
    "from sklearn import metrics\n",
    "from transformers import AutoTokenizer, BertModel\n",
    "from sklearn.model_selection import train_test_split\n",
    "from torch.utils.data import DataLoader, Dataset"
   ]
  },
  {
   "cell_type": "code",
   "execution_count": 65,
   "id": "774e3c9b-d89f-4cfb-9878-7150bf759dc4",
   "metadata": {},
   "outputs": [],
   "source": [
    "class CustomDataset(Dataset):\n",
    "    def __init__(self, encodings, labels):\n",
    "        self.encodings = encodings\n",
    "        self.labels = labels\n",
    "\n",
    "    def __getitem__(self, idx):\n",
    "        item = {key: torch.tensor(val[idx]) for key, val in self.encodings.items()}\n",
    "        item['labels'] = self.labels[idx]\n",
    "        return item\n",
    "\n",
    "    def __len__(self):\n",
    "        return len(self.labels)\n",
    "\n",
    "def create_classification_dataset(df, tokenizer, max_len=512, test_size=0.2, random_state=42):\n",
    "    labels = df['Suspicious_Level'].astype(int)\n",
    "    texts = df['Content'].astype(str)\n",
    "    train_texts, val_texts, train_labels, val_labels = train_test_split(\n",
    "        texts, labels, test_size=test_size, random_state=random_state\n",
    "    )\n",
    "\n",
    "    train_encodings = tokenizer(list(train_texts), truncation=True, padding=True, max_length=max_len)\n",
    "    val_encodings = tokenizer(list(val_texts), truncation=True, padding=True, max_length=max_len)\n",
    "\n",
    "    train_dataset = CustomDataset(train_encodings, torch.tensor(train_labels.values, dtype=torch.long))\n",
    "    val_dataset = CustomDataset(val_encodings, torch.tensor(val_labels.values, dtype=torch.long))\n",
    "\n",
    "    return train_dataset, val_dataset"
   ]
  },
  {
   "cell_type": "code",
   "execution_count": 48,
   "id": "af50e1d6-108b-48d0-906d-f515b5f57e46",
   "metadata": {},
   "outputs": [
    {
     "data": {
      "text/html": [
       "<div>\n",
       "<style scoped>\n",
       "    .dataframe tbody tr th:only-of-type {\n",
       "        vertical-align: middle;\n",
       "    }\n",
       "\n",
       "    .dataframe tbody tr th {\n",
       "        vertical-align: top;\n",
       "    }\n",
       "\n",
       "    .dataframe thead th {\n",
       "        text-align: right;\n",
       "    }\n",
       "</style>\n",
       "<table border=\"1\" class=\"dataframe\">\n",
       "  <thead>\n",
       "    <tr style=\"text-align: right;\">\n",
       "      <th></th>\n",
       "      <th>ChannelName</th>\n",
       "      <th>ChannelId</th>\n",
       "      <th>MessageId</th>\n",
       "      <th>Date</th>\n",
       "      <th>EditDate</th>\n",
       "      <th>Content</th>\n",
       "      <th>Suspicious_Level</th>\n",
       "    </tr>\n",
       "  </thead>\n",
       "  <tbody>\n",
       "    <tr>\n",
       "      <th>0</th>\n",
       "      <td>boris_rozhin</td>\n",
       "      <td>1101806611</td>\n",
       "      <td>91626</td>\n",
       "      <td>2023-07-08 16:11:34</td>\n",
       "      <td>2023-07-08 16:11:47</td>\n",
       "      <td>Работа наших бойцов к югу от Артемовска. Работ...</td>\n",
       "      <td>2</td>\n",
       "    </tr>\n",
       "    <tr>\n",
       "      <th>1</th>\n",
       "      <td>sashakots</td>\n",
       "      <td>1109403194</td>\n",
       "      <td>40853</td>\n",
       "      <td>2023-07-08 16:44:44</td>\n",
       "      <td>2023-07-08 16:44:58</td>\n",
       "      <td>Анкара нарушила договорённости, отпустив глава...</td>\n",
       "      <td>1</td>\n",
       "    </tr>\n",
       "    <tr>\n",
       "      <th>2</th>\n",
       "      <td>swodki</td>\n",
       "      <td>1144180066</td>\n",
       "      <td>280668</td>\n",
       "      <td>2023-07-09 02:00:23</td>\n",
       "      <td>2023-07-09 02:05:53</td>\n",
       "      <td>ЭТО ЕДИНСТВЕННЫЙ СПОСОБ ПОМОЧЬ НАМ! \\n\\nПополн...</td>\n",
       "      <td>1</td>\n",
       "    </tr>\n",
       "    <tr>\n",
       "      <th>3</th>\n",
       "      <td>boris_rozhin</td>\n",
       "      <td>1101806611</td>\n",
       "      <td>91573</td>\n",
       "      <td>2023-07-08 02:07:05</td>\n",
       "      <td>2023-07-08 02:07:19</td>\n",
       "      <td>МТ-ЛБ с 32-зарядной авиационной пусковой устан...</td>\n",
       "      <td>1</td>\n",
       "    </tr>\n",
       "    <tr>\n",
       "      <th>4</th>\n",
       "      <td>swodki</td>\n",
       "      <td>1144180066</td>\n",
       "      <td>280695</td>\n",
       "      <td>2023-07-09 07:01:49</td>\n",
       "      <td>2023-07-09 07:05:08</td>\n",
       "      <td>ЭТО ЕДИНСТВЕННЫЙ СПОСОБ ПОМОЧЬ НАМ! \\n\\nПополн...</td>\n",
       "      <td>1</td>\n",
       "    </tr>\n",
       "  </tbody>\n",
       "</table>\n",
       "</div>"
      ],
      "text/plain": [
       "    ChannelName   ChannelId  MessageId                 Date  \\\n",
       "0  boris_rozhin  1101806611      91626  2023-07-08 16:11:34   \n",
       "1     sashakots  1109403194      40853  2023-07-08 16:44:44   \n",
       "2        swodki  1144180066     280668  2023-07-09 02:00:23   \n",
       "3  boris_rozhin  1101806611      91573  2023-07-08 02:07:05   \n",
       "4        swodki  1144180066     280695  2023-07-09 07:01:49   \n",
       "\n",
       "              EditDate                                            Content  \\\n",
       "0  2023-07-08 16:11:47  Работа наших бойцов к югу от Артемовска. Работ...   \n",
       "1  2023-07-08 16:44:58  Анкара нарушила договорённости, отпустив глава...   \n",
       "2  2023-07-09 02:05:53  ЭТО ЕДИНСТВЕННЫЙ СПОСОБ ПОМОЧЬ НАМ! \\n\\nПополн...   \n",
       "3  2023-07-08 02:07:19  МТ-ЛБ с 32-зарядной авиационной пусковой устан...   \n",
       "4  2023-07-09 07:05:08  ЭТО ЕДИНСТВЕННЫЙ СПОСОБ ПОМОЧЬ НАМ! \\n\\nПополн...   \n",
       "\n",
       "   Suspicious_Level  \n",
       "0                 2  \n",
       "1                 1  \n",
       "2                 1  \n",
       "3                 1  \n",
       "4                 1  "
      ]
     },
     "execution_count": 48,
     "metadata": {},
     "output_type": "execute_result"
    }
   ],
   "source": [
    "train_df = pd.read_csv(\"train.csv\")\n",
    "train_df.head()"
   ]
  },
  {
   "cell_type": "code",
   "execution_count": null,
   "id": "157d1405-2b78-451f-84ab-892a4c2e5546",
   "metadata": {},
   "outputs": [],
   "source": []
  },
  {
   "cell_type": "code",
   "execution_count": 49,
   "id": "cd1ed99b-5810-4fc7-8471-194d9a43ef38",
   "metadata": {},
   "outputs": [
    {
     "data": {
      "text/plain": [
       "(587, 7)"
      ]
     },
     "execution_count": 49,
     "metadata": {},
     "output_type": "execute_result"
    }
   ],
   "source": [
    "train_df.shape"
   ]
  },
  {
   "cell_type": "code",
   "execution_count": 30,
   "id": "6c4c73e0-352b-4940-a657-7f751afd2857",
   "metadata": {},
   "outputs": [
    {
     "data": {
      "text/html": [
       "<div>\n",
       "<style scoped>\n",
       "    .dataframe tbody tr th:only-of-type {\n",
       "        vertical-align: middle;\n",
       "    }\n",
       "\n",
       "    .dataframe tbody tr th {\n",
       "        vertical-align: top;\n",
       "    }\n",
       "\n",
       "    .dataframe thead th {\n",
       "        text-align: right;\n",
       "    }\n",
       "</style>\n",
       "<table border=\"1\" class=\"dataframe\">\n",
       "  <thead>\n",
       "    <tr style=\"text-align: right;\">\n",
       "      <th></th>\n",
       "      <th>ChannelName</th>\n",
       "      <th>ChannelId</th>\n",
       "      <th>MessageId</th>\n",
       "      <th>Date</th>\n",
       "      <th>EditDate</th>\n",
       "      <th>Content</th>\n",
       "    </tr>\n",
       "  </thead>\n",
       "  <tbody>\n",
       "    <tr>\n",
       "      <th>0</th>\n",
       "      <td>ukraina_ru</td>\n",
       "      <td>1175084215</td>\n",
       "      <td>168641</td>\n",
       "      <td>2023-09-11 16:57:36</td>\n",
       "      <td>2023-09-11 16:57:50</td>\n",
       "      <td>⚡️Администрация Байдена близка к тому, чтобы о...</td>\n",
       "    </tr>\n",
       "    <tr>\n",
       "      <th>1</th>\n",
       "      <td>bear007</td>\n",
       "      <td>1505866568</td>\n",
       "      <td>36569</td>\n",
       "      <td>2023-09-11 14:52:01</td>\n",
       "      <td>2023-09-11 14:52:12</td>\n",
       "      <td>РИА Новости публикует первые кадры с места гиб...</td>\n",
       "    </tr>\n",
       "    <tr>\n",
       "      <th>2</th>\n",
       "      <td>zakharprilepin</td>\n",
       "      <td>1217080686</td>\n",
       "      <td>19697</td>\n",
       "      <td>2023-09-11 08:26:09</td>\n",
       "      <td>NaN</td>\n",
       "      <td>Вице-спикер Госдумы Петр Толстой - о сроках ок...</td>\n",
       "    </tr>\n",
       "    <tr>\n",
       "      <th>3</th>\n",
       "      <td>denazi_ua</td>\n",
       "      <td>1783083983</td>\n",
       "      <td>49296</td>\n",
       "      <td>2023-09-11 12:30:37</td>\n",
       "      <td>2023-09-11 12:32:55</td>\n",
       "      <td>В Германии не осталось действующих специалисто...</td>\n",
       "    </tr>\n",
       "    <tr>\n",
       "      <th>4</th>\n",
       "      <td>spletnicca</td>\n",
       "      <td>1287596810</td>\n",
       "      <td>11784</td>\n",
       "      <td>2023-09-11 08:47:19</td>\n",
       "      <td>NaN</td>\n",
       "      <td>Военные медики рассказали правду о войне и её ...</td>\n",
       "    </tr>\n",
       "  </tbody>\n",
       "</table>\n",
       "</div>"
      ],
      "text/plain": [
       "      ChannelName   ChannelId  MessageId                 Date  \\\n",
       "0      ukraina_ru  1175084215     168641  2023-09-11 16:57:36   \n",
       "1         bear007  1505866568      36569  2023-09-11 14:52:01   \n",
       "2  zakharprilepin  1217080686      19697  2023-09-11 08:26:09   \n",
       "3       denazi_ua  1783083983      49296  2023-09-11 12:30:37   \n",
       "4      spletnicca  1287596810      11784  2023-09-11 08:47:19   \n",
       "\n",
       "              EditDate                                            Content  \n",
       "0  2023-09-11 16:57:50  ⚡️Администрация Байдена близка к тому, чтобы о...  \n",
       "1  2023-09-11 14:52:12  РИА Новости публикует первые кадры с места гиб...  \n",
       "2                  NaN  Вице-спикер Госдумы Петр Толстой - о сроках ок...  \n",
       "3  2023-09-11 12:32:55  В Германии не осталось действующих специалисто...  \n",
       "4                  NaN  Военные медики рассказали правду о войне и её ...  "
      ]
     },
     "execution_count": 30,
     "metadata": {},
     "output_type": "execute_result"
    }
   ],
   "source": [
    "test_df = pd.read_csv(\"test.csv\")\n",
    "test_df.head()"
   ]
  },
  {
   "cell_type": "code",
   "execution_count": 31,
   "id": "c5e067e4-43a3-49f0-828b-4653524ada65",
   "metadata": {},
   "outputs": [
    {
     "data": {
      "text/plain": [
       "(1171, 6)"
      ]
     },
     "execution_count": 31,
     "metadata": {},
     "output_type": "execute_result"
    }
   ],
   "source": [
    "test_df.shape"
   ]
  },
  {
   "cell_type": "code",
   "execution_count": 46,
   "id": "523fd54d-58fa-48bd-8be0-3cdd49f7bd46",
   "metadata": {
    "scrolled": true
   },
   "outputs": [],
   "source": [
    "unsupervised_df = pd.read_csv(\"unsupervised_data.csv\")\n",
    "unsupervised_df.head()"
   ]
  },
  {
   "cell_type": "code",
   "execution_count": 33,
   "id": "21883fe9-b203-4501-9090-f4b11280f8b9",
   "metadata": {},
   "outputs": [
    {
     "data": {
      "text/plain": [
       "(15681881, 3)"
      ]
     },
     "execution_count": 33,
     "metadata": {},
     "output_type": "execute_result"
    }
   ],
   "source": [
    "unsupervised_df.shape"
   ]
  },
  {
   "cell_type": "code",
   "execution_count": 34,
   "id": "9d504c8f-3b2b-4fde-ab28-fec886d165af",
   "metadata": {},
   "outputs": [
    {
     "data": {
      "text/html": [
       "<div>\n",
       "<style scoped>\n",
       "    .dataframe tbody tr th:only-of-type {\n",
       "        vertical-align: middle;\n",
       "    }\n",
       "\n",
       "    .dataframe tbody tr th {\n",
       "        vertical-align: top;\n",
       "    }\n",
       "\n",
       "    .dataframe thead th {\n",
       "        text-align: right;\n",
       "    }\n",
       "</style>\n",
       "<table border=\"1\" class=\"dataframe\">\n",
       "  <thead>\n",
       "    <tr style=\"text-align: right;\">\n",
       "      <th></th>\n",
       "      <th>MessageId</th>\n",
       "      <th>Suspicious_Level</th>\n",
       "    </tr>\n",
       "  </thead>\n",
       "  <tbody>\n",
       "    <tr>\n",
       "      <th>0</th>\n",
       "      <td>168641</td>\n",
       "      <td>1</td>\n",
       "    </tr>\n",
       "    <tr>\n",
       "      <th>1</th>\n",
       "      <td>36569</td>\n",
       "      <td>1</td>\n",
       "    </tr>\n",
       "    <tr>\n",
       "      <th>2</th>\n",
       "      <td>19697</td>\n",
       "      <td>1</td>\n",
       "    </tr>\n",
       "    <tr>\n",
       "      <th>3</th>\n",
       "      <td>49296</td>\n",
       "      <td>1</td>\n",
       "    </tr>\n",
       "    <tr>\n",
       "      <th>4</th>\n",
       "      <td>11784</td>\n",
       "      <td>1</td>\n",
       "    </tr>\n",
       "  </tbody>\n",
       "</table>\n",
       "</div>"
      ],
      "text/plain": [
       "   MessageId  Suspicious_Level\n",
       "0     168641                 1\n",
       "1      36569                 1\n",
       "2      19697                 1\n",
       "3      49296                 1\n",
       "4      11784                 1"
      ]
     },
     "execution_count": 34,
     "metadata": {},
     "output_type": "execute_result"
    }
   ],
   "source": [
    "sample_submission = pd.read_csv(\"sample_submission.csv\")\n",
    "sample_submission.head()"
   ]
  },
  {
   "cell_type": "code",
   "execution_count": null,
   "id": "a2003289-ad8f-4e8a-8ec4-f251736cd69e",
   "metadata": {},
   "outputs": [],
   "source": []
  },
  {
   "cell_type": "markdown",
   "id": "0a485354-354f-4786-b230-e2a343975cb1",
   "metadata": {},
   "source": [
    "1. Masked pretrained on unsupervised data\n",
    "2. Train on emnlp \n",
    "    1? adapt labels from original task -> to ours\n",
    "    2? train on original task of emnlp\n",
    "3. Engineer synthetic data\n",
    "4. Train on train.csv"
   ]
  },
  {
   "cell_type": "code",
   "execution_count": null,
   "id": "b8f55fdd-6fab-42ca-b04f-2c67215a171a",
   "metadata": {},
   "outputs": [],
   "source": []
  },
  {
   "cell_type": "code",
   "execution_count": 66,
   "id": "ba6e0c3c-6136-470e-a748-c60ee854898b",
   "metadata": {},
   "outputs": [],
   "source": [
    "tokenizer = AutoTokenizer.from_pretrained(\n",
    "    \"ai-forever/ruBert-base\", cache_dir=\".\")"
   ]
  },
  {
   "cell_type": "code",
   "execution_count": 68,
   "id": "6626e57e-7184-4357-a372-bb920461b62c",
   "metadata": {},
   "outputs": [
    {
     "data": {
      "text/plain": [
       "BertTokenizerFast(name_or_path='ai-forever/ruBert-base', vocab_size=120138, model_max_length=1000000000000000019884624838656, is_fast=True, padding_side='right', truncation_side='right', special_tokens={'unk_token': '[UNK]', 'sep_token': '[SEP]', 'pad_token': '[PAD]', 'cls_token': '[CLS]', 'mask_token': '[MASK]'}, clean_up_tokenization_spaces=True),  added_tokens_decoder={\n",
       "\t0: AddedToken(\"[PAD]\", rstrip=False, lstrip=False, single_word=False, normalized=False, special=True),\n",
       "\t100: AddedToken(\"[UNK]\", rstrip=False, lstrip=False, single_word=False, normalized=False, special=True),\n",
       "\t101: AddedToken(\"[CLS]\", rstrip=False, lstrip=False, single_word=False, normalized=False, special=True),\n",
       "\t102: AddedToken(\"[SEP]\", rstrip=False, lstrip=False, single_word=False, normalized=False, special=True),\n",
       "\t103: AddedToken(\"[MASK]\", rstrip=False, lstrip=False, single_word=False, normalized=False, special=True),\n",
       "}"
      ]
     },
     "execution_count": 68,
     "metadata": {},
     "output_type": "execute_result"
    }
   ],
   "source": [
    "tokenizer"
   ]
  },
  {
   "cell_type": "code",
   "execution_count": 67,
   "id": "dfc64955-fb44-4753-8950-e9b93e9ca5b8",
   "metadata": {},
   "outputs": [],
   "source": [
    "class RegressionBERT(pl.LightningModule):\n",
    "    def __init__(\n",
    "        self, \n",
    "        num_classes: int = 3, \n",
    "        dropout_prob: float = 0.5,\n",
    "        learning_rate: float = 1e-5, \n",
    "    ):\n",
    "        super(RegressionBERT, self).__init__()\n",
    "\n",
    "        self.learning_rate = learning_rate\n",
    "\n",
    "        self.model = BertModel.from_pretrained(\"ai-forever/ruBert-base\", cache_dir=\".\")\n",
    "\n",
    "        d1 = torch.nn.Dropout(dropout_prob)\n",
    "        l1 = torch.nn.Linear(self.model.config.hidden_size, self.model.config.hidden_size)\n",
    "        d2 = torch.nn.Dropout(dropout_prob)\n",
    "        l2 = torch.nn.Linear(self.model.config.hidden_size, num_classes)\n",
    "\n",
    "        self.classification_head = nn.Sequential(*[d1, l1, d2, l2])\n",
    "        \n",
    "        self.loss_fn = torch.nn.CrossEntropyLoss()\n",
    "\n",
    "    def forward(self, input_ids, attention_mask):\n",
    "        outputs = self.model(input_ids, attention_mask=attention_mask)\n",
    "        pooled_output = outputs.pooler_output\n",
    "        output = self.classification_head(pooled_output)\n",
    "        \n",
    "        return output.squeeze(1)\n",
    "\n",
    "    def training_step(self, batch, batch_idx):\n",
    "        input_ids, attention_mask, labels = batch\n",
    "        predictions = self(input_ids, attention_mask)\n",
    "        loss = self.loss_fn(predictions, labels)\n",
    "        \n",
    "        return loss\n",
    "\n",
    "    def validation_step(self, batch, batch_idx):\n",
    "        input_ids, attention_mask, labels = batch\n",
    "        predictions = self(input_ids, attention_mask)\n",
    "        loss = self.loss_fn(predictions, labels)\n",
    "        return {\"val_loss\": loss, \"predictions\": predictions, \"labels\": labels}\n",
    "\n",
    "    def configure_optimizers(self):\n",
    "        optimizer = torch.optim.AdamW(self.parameters(), lr=self.learning_rate)\n",
    "        return optimizer\n"
   ]
  },
  {
   "cell_type": "code",
   "execution_count": 69,
   "id": "2099a351-24bf-41c6-81ae-20b26ac0d4bc",
   "metadata": {},
   "outputs": [],
   "source": [
    "train, val = create_classification_dataset(train_df, tokenizer)"
   ]
  },
  {
   "cell_type": "code",
   "execution_count": 72,
   "id": "c10c5393-9154-4b70-87f3-0577e7fdec5a",
   "metadata": {},
   "outputs": [],
   "source": [
    "module = RegressionBERT()"
   ]
  },
  {
   "cell_type": "code",
   "execution_count": 77,
   "id": "66510249-d010-4e54-a1f1-3a2ab0119fc4",
   "metadata": {},
   "outputs": [],
   "source": [
    "input_ids, token_type_ids, attention_mask, label = train[0].values()"
   ]
  },
  {
   "cell_type": "code",
   "execution_count": 100,
   "id": "772c68e8-f3f3-4397-afbb-9f5c9c7305d5",
   "metadata": {},
   "outputs": [
    {
     "data": {
      "text/plain": [
       "tensor([[-0.1493, -0.0810,  0.2197]], grad_fn=<SqueezeBackward1>)"
      ]
     },
     "execution_count": 100,
     "metadata": {},
     "output_type": "execute_result"
    }
   ],
   "source": [
    "output = module(input_ids[None], attention_mask[None])\n",
    "output"
   ]
  },
  {
   "cell_type": "code",
   "execution_count": 101,
   "id": "51bc0cba-cea9-4135-804f-ace876b29844",
   "metadata": {},
   "outputs": [
    {
     "data": {
      "text/plain": [
       "tensor(1.1893, grad_fn=<NllLossBackward0>)"
      ]
     },
     "execution_count": 101,
     "metadata": {},
     "output_type": "execute_result"
    }
   ],
   "source": [
    "module.loss_fn(output, label[None])"
   ]
  },
  {
   "cell_type": "code",
   "execution_count": 10,
   "id": "c501e875-9512-47f0-8c69-3448f325850c",
   "metadata": {},
   "outputs": [
    {
     "ename": "NameError",
     "evalue": "name 'y_true' is not defined",
     "output_type": "error",
     "traceback": [
      "\u001b[0;31m---------------------------------------------------------------------------\u001b[0m",
      "\u001b[0;31mNameError\u001b[0m                                 Traceback (most recent call last)",
      "Cell \u001b[0;32mIn[10], line 1\u001b[0m\n\u001b[0;32m----> 1\u001b[0m f1_score \u001b[38;5;241m=\u001b[39m sklearn\u001b[38;5;241m.\u001b[39mmetrics\u001b[38;5;241m.\u001b[39mf1_score(\u001b[43my_true\u001b[49m, y_pred, average\u001b[38;5;241m=\u001b[39m\u001b[38;5;124m'\u001b[39m\u001b[38;5;124mmacro\u001b[39m\u001b[38;5;124m'\u001b[39m)\n",
      "\u001b[0;31mNameError\u001b[0m: name 'y_true' is not defined"
     ]
    }
   ],
   "source": [
    "f1_score = sklearn.metrics.f1_score(y_true, y_pred, average='macro')"
   ]
  },
  {
   "cell_type": "code",
   "execution_count": null,
   "id": "0f6159ab-fdf0-4a76-9cd5-c39d5f924849",
   "metadata": {},
   "outputs": [],
   "source": []
  },
  {
   "cell_type": "code",
   "execution_count": 106,
   "id": "366f1f48-0846-47b3-8668-5416bd4d3607",
   "metadata": {},
   "outputs": [],
   "source": [
    "df = pd.read_csv(\"test.csv\")"
   ]
  },
  {
   "cell_type": "code",
   "execution_count": 107,
   "id": "49091173-3974-4880-8c98-a5319812b6b3",
   "metadata": {},
   "outputs": [
    {
     "data": {
      "text/html": [
       "<div>\n",
       "<style scoped>\n",
       "    .dataframe tbody tr th:only-of-type {\n",
       "        vertical-align: middle;\n",
       "    }\n",
       "\n",
       "    .dataframe tbody tr th {\n",
       "        vertical-align: top;\n",
       "    }\n",
       "\n",
       "    .dataframe thead th {\n",
       "        text-align: right;\n",
       "    }\n",
       "</style>\n",
       "<table border=\"1\" class=\"dataframe\">\n",
       "  <thead>\n",
       "    <tr style=\"text-align: right;\">\n",
       "      <th></th>\n",
       "      <th>ChannelName</th>\n",
       "      <th>ChannelId</th>\n",
       "      <th>MessageId</th>\n",
       "      <th>Date</th>\n",
       "      <th>EditDate</th>\n",
       "      <th>Content</th>\n",
       "    </tr>\n",
       "  </thead>\n",
       "  <tbody>\n",
       "    <tr>\n",
       "      <th>0</th>\n",
       "      <td>ukraina_ru</td>\n",
       "      <td>1175084215</td>\n",
       "      <td>168641</td>\n",
       "      <td>2023-09-11 16:57:36</td>\n",
       "      <td>2023-09-11 16:57:50</td>\n",
       "      <td>⚡️Администрация Байдена близка к тому, чтобы о...</td>\n",
       "    </tr>\n",
       "    <tr>\n",
       "      <th>1</th>\n",
       "      <td>bear007</td>\n",
       "      <td>1505866568</td>\n",
       "      <td>36569</td>\n",
       "      <td>2023-09-11 14:52:01</td>\n",
       "      <td>2023-09-11 14:52:12</td>\n",
       "      <td>РИА Новости публикует первые кадры с места гиб...</td>\n",
       "    </tr>\n",
       "    <tr>\n",
       "      <th>2</th>\n",
       "      <td>zakharprilepin</td>\n",
       "      <td>1217080686</td>\n",
       "      <td>19697</td>\n",
       "      <td>2023-09-11 08:26:09</td>\n",
       "      <td>NaN</td>\n",
       "      <td>Вице-спикер Госдумы Петр Толстой - о сроках ок...</td>\n",
       "    </tr>\n",
       "    <tr>\n",
       "      <th>3</th>\n",
       "      <td>denazi_ua</td>\n",
       "      <td>1783083983</td>\n",
       "      <td>49296</td>\n",
       "      <td>2023-09-11 12:30:37</td>\n",
       "      <td>2023-09-11 12:32:55</td>\n",
       "      <td>В Германии не осталось действующих специалисто...</td>\n",
       "    </tr>\n",
       "    <tr>\n",
       "      <th>4</th>\n",
       "      <td>spletnicca</td>\n",
       "      <td>1287596810</td>\n",
       "      <td>11784</td>\n",
       "      <td>2023-09-11 08:47:19</td>\n",
       "      <td>NaN</td>\n",
       "      <td>Военные медики рассказали правду о войне и её ...</td>\n",
       "    </tr>\n",
       "  </tbody>\n",
       "</table>\n",
       "</div>"
      ],
      "text/plain": [
       "      ChannelName   ChannelId  MessageId                 Date  \\\n",
       "0      ukraina_ru  1175084215     168641  2023-09-11 16:57:36   \n",
       "1         bear007  1505866568      36569  2023-09-11 14:52:01   \n",
       "2  zakharprilepin  1217080686      19697  2023-09-11 08:26:09   \n",
       "3       denazi_ua  1783083983      49296  2023-09-11 12:30:37   \n",
       "4      spletnicca  1287596810      11784  2023-09-11 08:47:19   \n",
       "\n",
       "              EditDate                                            Content  \n",
       "0  2023-09-11 16:57:50  ⚡️Администрация Байдена близка к тому, чтобы о...  \n",
       "1  2023-09-11 14:52:12  РИА Новости публикует первые кадры с места гиб...  \n",
       "2                  NaN  Вице-спикер Госдумы Петр Толстой - о сроках ок...  \n",
       "3  2023-09-11 12:32:55  В Германии не осталось действующих специалисто...  \n",
       "4                  NaN  Военные медики рассказали правду о войне и её ...  "
      ]
     },
     "execution_count": 107,
     "metadata": {},
     "output_type": "execute_result"
    }
   ],
   "source": [
    "df.head()"
   ]
  },
  {
   "cell_type": "code",
   "execution_count": 108,
   "id": "71fed996-5c3b-49a6-acff-79668e7cfeb0",
   "metadata": {},
   "outputs": [],
   "source": [
    "df = df.drop(columns=[\"ChannelId\", \"ChannelName\", \"Date\", \"EditDate\"])"
   ]
  },
  {
   "cell_type": "code",
   "execution_count": 109,
   "id": "164e932a-03a3-4a45-9b2a-de6ba57e2f7d",
   "metadata": {},
   "outputs": [
    {
     "data": {
      "text/html": [
       "<div>\n",
       "<style scoped>\n",
       "    .dataframe tbody tr th:only-of-type {\n",
       "        vertical-align: middle;\n",
       "    }\n",
       "\n",
       "    .dataframe tbody tr th {\n",
       "        vertical-align: top;\n",
       "    }\n",
       "\n",
       "    .dataframe thead th {\n",
       "        text-align: right;\n",
       "    }\n",
       "</style>\n",
       "<table border=\"1\" class=\"dataframe\">\n",
       "  <thead>\n",
       "    <tr style=\"text-align: right;\">\n",
       "      <th></th>\n",
       "      <th>MessageId</th>\n",
       "      <th>Content</th>\n",
       "    </tr>\n",
       "  </thead>\n",
       "  <tbody>\n",
       "    <tr>\n",
       "      <th>0</th>\n",
       "      <td>168641</td>\n",
       "      <td>⚡️Администрация Байдена близка к тому, чтобы о...</td>\n",
       "    </tr>\n",
       "    <tr>\n",
       "      <th>1</th>\n",
       "      <td>36569</td>\n",
       "      <td>РИА Новости публикует первые кадры с места гиб...</td>\n",
       "    </tr>\n",
       "    <tr>\n",
       "      <th>2</th>\n",
       "      <td>19697</td>\n",
       "      <td>Вице-спикер Госдумы Петр Толстой - о сроках ок...</td>\n",
       "    </tr>\n",
       "    <tr>\n",
       "      <th>3</th>\n",
       "      <td>49296</td>\n",
       "      <td>В Германии не осталось действующих специалисто...</td>\n",
       "    </tr>\n",
       "    <tr>\n",
       "      <th>4</th>\n",
       "      <td>11784</td>\n",
       "      <td>Военные медики рассказали правду о войне и её ...</td>\n",
       "    </tr>\n",
       "  </tbody>\n",
       "</table>\n",
       "</div>"
      ],
      "text/plain": [
       "   MessageId                                            Content\n",
       "0     168641  ⚡️Администрация Байдена близка к тому, чтобы о...\n",
       "1      36569  РИА Новости публикует первые кадры с места гиб...\n",
       "2      19697  Вице-спикер Госдумы Петр Толстой - о сроках ок...\n",
       "3      49296  В Германии не осталось действующих специалисто...\n",
       "4      11784  Военные медики рассказали правду о войне и её ..."
      ]
     },
     "execution_count": 109,
     "metadata": {},
     "output_type": "execute_result"
    }
   ],
   "source": [
    "df.head()"
   ]
  },
  {
   "cell_type": "code",
   "execution_count": 119,
   "id": "f2e7a4a3-3264-4423-91be-4f2443b70e03",
   "metadata": {},
   "outputs": [],
   "source": [
    "from train import DisinformationBERT\n",
    "model = DisinformationBERT.load_from_checkpoint(\"/mnt/vol_d/bh/checkpoints/epoch=14-val_loss=0.94.ckpt\")"
   ]
  },
  {
   "cell_type": "code",
   "execution_count": 120,
   "id": "3cebd323-c006-4ada-a506-60a56c6849ef",
   "metadata": {},
   "outputs": [],
   "source": [
    "train_encodings = model.tokenizer(list(df[\"Content\"]), truncation=True, padding=True, max_length=512)"
   ]
  },
  {
   "cell_type": "code",
   "execution_count": 126,
   "id": "b17602f9-3dea-4e99-bc23-11227dc2a576",
   "metadata": {},
   "outputs": [
    {
     "name": "stdout",
     "output_type": "stream",
     "text": [
      "torch.Size([1, 512]) torch.Size([1, 512])\n",
      "0\n"
     ]
    }
   ],
   "source": [
    "predictions = []\n",
    "for idx in range(df.shape[0]):\n",
    "    input_ids = torch.tensor(train_encodings[\"input_ids\"][idx], device=device).unsqueeze(0)\n",
    "    attn_mask = torch.tensor(train_encodings[\"attention_mask\"][idx], device=device).unsqueeze(0)\n",
    "\n",
    "    print(input_ids.shape, attn_mask.shape)\n",
    "\n",
    "    with torch.no_grad():\n",
    "        pred = model(\n",
    "            torch.tensor(train_encodings[\"input_ids\"][idx], device=device).unsqueeze(0),\n",
    "            attention_mask=torch.tensor(train_encodings[\"attention_mask\"][idx], device=device).unsqueeze(0)\n",
    "        )\n",
    "\n",
    "    pred = torch.argmax(pred, dim=1).item()\n",
    "\n",
    "    predictions.append(pred)"
   ]
  },
  {
   "cell_type": "code",
   "execution_count": 129,
   "id": "ea70d84b-e4ef-4ce1-8d2c-3cb504057789",
   "metadata": {},
   "outputs": [
    {
     "data": {
      "text/plain": [
       "(array([383.,   0.,   0.,   0.,   0., 139.,   0.,   0.,   0.,  65.]),\n",
       " array([1. , 1.2, 1.4, 1.6, 1.8, 2. , 2.2, 2.4, 2.6, 2.8, 3. ]),\n",
       " <BarContainer object of 10 artists>)"
      ]
     },
     "execution_count": 129,
     "metadata": {},
     "output_type": "execute_result"
    },
    {
     "data": {
      "image/png": "[encoded data removed]",
      "text/plain": [
       "<Figure size 640x480 with 1 Axes>"
      ]
     },
     "metadata": {},
     "output_type": "display_data"
    }
   ],
   "source": [
    "plt.hist(train_df[\"Suspicious_Level\"])"
   ]
  },
  {
   "cell_type": "code",
   "execution_count": null,
   "id": "b0f3ee1d-84bc-499a-9dc1-76f12e483fbe",
   "metadata": {},
   "outputs": [],
   "source": []
  }
 ],
 "metadata": {
  "kernelspec": {
   "display_name": "Python 3 (ipykernel)",
   "language": "python",
   "name": "python3"
  },
  "language_info": {
   "codemirror_mode": {
    "name": "ipython",
    "version": 3
   },
   "file_extension": ".py",
   "mimetype": "text/x-python",
   "name": "python",
   "nbconvert_exporter": "python",
   "pygments_lexer": "ipython3",
   "version": "3.10.13"
  }
 },
 "nbformat": 4,
 "nbformat_minor": 5
}
